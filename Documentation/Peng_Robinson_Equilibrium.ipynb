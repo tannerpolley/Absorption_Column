{
 "cells": [
  {
   "cell_type": "markdown",
   "id": "8ff02290-83e1-4bdc-92df-2b38c3b81d50",
   "metadata": {
    "pycharm": {
     "name": "#%% md\n"
    }
   },
   "source": [
    "# Thermodynamics\n",
    "\n",
    "## Equilibrium\n",
    "\n",
    "It is assumed that at the interface, there are equilibrium conditions for the vapor and liquid side. Fugacity is used to evaluate the equilibrium conditions.\n",
    "\n",
    "$$\n",
    "\\hat{f}_i^V=\\hat{f}_i^V\n",
    "$$\n",
    "\n",
    "Where the vapor and liquid fugacities are evaluated as such\n",
    "$$\n",
    "\\hat{f}_i^V=y_i \\varphi_i^V P \\quad \n",
    "$$ \n",
    "\n",
    "$$\n",
    "\\hat{f}_i^L=x_i \\varphi_i^L P \\quad \n",
    "$$ \n",
    "\n",
    "Equating the two expressions and eliminating $\\mathrm{P}$\n",
    "\n",
    "$$\n",
    "y_i \\varphi_i^V=x_i \\varphi_i^L\n",
    "$$\n",
    "\n",
    "Defining the vapour-liquid equilibrium in terms of $\\mathrm{K}$ values where\n",
    "\n",
    "$$\n",
    "K_i=\\frac{\\varphi_i^L}{\\varphi_i^V}\n",
    "$$\n",
    "\n",
    "This results in the more simplified expression:\n",
    "\n",
    "$$\n",
    "y_i=K_i x_i\n",
    "$$\n",
    "\n",
    "The value $\\mathrm{K}_{\\mathrm{i}}$ for each component can be computed from the Peng Robinson equation of state to get the fugacity coefficient values:\n",
    "\n",
    "$$\n",
    "\\ln \\varphi_i=\\frac{1}{R T} \\int_V^{\\infty}\\left[\\left(\\frac{\\partial P}{\\partial N_i}\\right)_{T, V, N_j}-\\frac{R T}{V}\\right] d V-R T \\ln Z\n",
    "$$\n",
    "\n",
    "The integration then yields to this equation depending on the phase: \n",
    "\n",
    "$$\n",
    "\\ln \\varphi_i^j=\\frac{B_i}{B_{\\text {mix }}^j}\\left(Z^j-1\\right)-\\ln \\left(Z^j-B_{\\text {mix }}^j\\right)-\\frac{A_{\\text {mix }}^j}{2 \\sqrt{2} B_{\\text {mix }}^j}\\left(\\frac{2 \\sum x_i A_i}{A_{\\text {mix }}^j}-\\frac{B_i^j}{B_{\\text {mix }}^j}\\right) \\ln \\left(\\frac{Z^j+\\left(1+\\sqrt{2)} B_{\\text {mix }}^j\\right.}{Z^j+\\left(1-\\sqrt{2)} B_{\\text {mix }}^l\\right.}\\right)\n",
    "$$\n",
    "\n",
    "Where $\\mathrm{i}$ is the species and $\\mathrm{j}$ is the phase\n",
    "\n",
    "In this formula $A_i$ and $B_i$ are the A and B co-efficient for the pure component while $A_{m i x}^j$ and $B_{\\text {mix }}^j$ are the mixture coefficients.\n",
    "\n",
    "To solve for this equation, the quanities mentioned above must be found as well as $Z$ for each phase\n",
    "\n",
    "This is where the Peng Robinson EOS comes in"
   ]
  },
  {
   "cell_type": "markdown",
   "id": "68b14e07-7c3e-4e3b-a6a8-609154790b72",
   "metadata": {
    "pycharm": {
     "name": "#%% md\n"
    }
   },
   "source": [
    "### Peng Robinson EOS\n",
    "\n",
    "$$\n",
    "P=\\frac{R T}{V_m-b}-\\frac{a \\alpha}{V_m^2+2 b V_m-b^2}\n",
    "$$\n",
    "\n",
    "Where:\n",
    "$$\n",
    "Z=\\frac{P V}{R T} \n",
    "$$\n",
    "\n",
    "so\n",
    "\n",
    "$$\n",
    "Z=\\frac{V}{V-b}-\\frac{a V}{R T\\left(V^2+2 b V-b^2\\right)}\n",
    "$$\n",
    "\n",
    "Additional Information:\n",
    "$$\n",
    "\\begin{aligned}\n",
    "& \\mathrm{V}=\\text { Molar Volume } \\quad\\left(\\frac{m^3}{m o l}\\right) \\\\\n",
    "& \\mathrm{P}=\\text { Pressure } \\quad(\\mathrm{Pa}) \\\\\n",
    "& \\mathrm{R}=\\text { Gas constant }\\left(\\mathrm{J} / \\mathrm{mol}^{* \\mathrm{~K})}\\right. \\\\\n",
    "& \\mathrm{T}=\\text { Temperature }(\\mathrm{K}) \\\\\n",
    "& \\mathrm{T}_{\\mathrm{c}}=\\text { Critical Temperature }(\\mathrm{K}) \\\\\n",
    "& \\mathrm{P}_{\\mathrm{c}}=\\quad \\text { Critical Pressure } \\quad(\\mathrm{Pa}) \\text {. } \\\\\n",
    "& \\mathrm{T}_{\\mathrm{r}}=\\frac{T}{T_c} \\quad \\text { Reduced Temperature } \\\\\n",
    "& \\omega= \\text { Acentric factor } \\\\\n",
    "& \\mathrm{\\kappa}=0.37464+1.54226 \\omega-0.26992 \\omega^2 \\\\\n",
    "& \\alpha=\\left(1+\\kappa\\left(1-\\sqrt{\\left.T_R\\right)}\\right)^2 . .\\right. \\\\\n",
    "& \\mathrm{a}=\\quad 0.45724 \\frac{R^2 T_c^2}{P_c} \\alpha \\\\\n",
    "& \\mathrm{b}=\\quad 0.0778 \\frac{R T_c}{P_c} \\\\\n",
    "&\n",
    "\\end{aligned}\n",
    "$$\n",
    "\n",
    "The equation can be rearranged into a cubic equation to solve. \n",
    "\n",
    "$$\n",
    "Z^3+\\beta Z^2+\\gamma Z+\\delta=0 \n",
    "$$\n",
    "Where \n",
    "$$\n",
    "\\begin{aligned}\n",
    "& \\beta=B-1 \\\\\n",
    "& \\gamma=A-3 B^2-2 B \\\\\n",
    "& \\delta=B^3+B^2-A B\n",
    "\\end{aligned}\n",
    "$$\n",
    "\n",
    "And to get $A$ and $B$ in any form, use these equations\n",
    "\n",
    "$$\n",
    "A=\\frac{a P}{R^2 T^2}\n",
    "$$\n",
    "\n",
    "$$\n",
    "B=\\frac{b P}{R T}\n",
    "$$\n",
    "\n",
    "Before solving for $Z$ for each phase, the mixing rules need to be applied to this multi component sustem to determine $a_{\\text {mix }}^j$, $b_{\\text {mix }}^j$\n",
    "\n",
    "The following equations include interaction parameters to solve for these variables:\n",
    "\n",
    "$$\n",
    "\\begin{gathered}\n",
    "b_{\\text {mix }}^l=\\sum_i^N x_i b_i \\quad \\text { and } \\quad b_{\\text {mix }}^v=\\sum_i^N y_i b_i \\\\\n",
    "a_{\\text {mix }}^l=\\sum_i^N \\sum_j^N x_i x_j \\sqrt{a_i a_j}\\left(1-k_{i j}\\right) \\\\\n",
    "a_{\\text {mix }}^v=\\sum_i^N \\sum_j^N y_i y_j \\sqrt{a_i a_j}\\left(1-k_{i j}\\right)\n",
    "\\end{gathered}\n",
    "$$"
   ]
  },
  {
   "cell_type": "markdown",
   "id": "1a25a69c-2426-4483-b6d9-8c0ee5db40a1",
   "metadata": {
    "pycharm": {
     "name": "#%% md\n"
    }
   },
   "source": [
    "### Solving\n",
    "\n"
   ]
  }
 ],
 "metadata": {
  "kernelspec": {
   "display_name": "Python 3",
   "language": "python",
   "name": "python3"
  },
  "language_info": {
   "codemirror_mode": {
    "name": "ipython",
    "version": 3
   },
   "file_extension": ".py",
   "mimetype": "text/x-python",
   "name": "python",
   "nbconvert_exporter": "python",
   "pygments_lexer": "ipython3",
   "version": "3.8.8"
  }
 },
 "nbformat": 4,
 "nbformat_minor": 5
}